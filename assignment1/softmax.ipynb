{
 "cells": [
  {
   "cell_type": "markdown",
   "metadata": {},
   "source": [
    "# Softmax exercise\n",
    "\n",
    "*Complete and hand in this completed worksheet (including its outputs and any supporting code outside of the worksheet) with your assignment submission. For more details see the [assignments page](http://vision.stanford.edu/teaching/cs231n/assignments.html) on the course website.*\n",
    "\n",
    "This exercise is analogous to the SVM exercise. You will:\n",
    "\n",
    "- implement a fully-vectorized **loss function** for the Softmax classifier\n",
    "- implement the fully-vectorized expression for its **analytic gradient**\n",
    "- **check your implementation** with numerical gradient\n",
    "- use a validation set to **tune the learning rate and regularization** strength\n",
    "- **optimize** the loss function with **SGD**\n",
    "- **visualize** the final learned weights\n"
   ]
  },
  {
   "cell_type": "code",
   "execution_count": 1,
   "metadata": {},
   "outputs": [],
   "source": [
    "import random\n",
    "import numpy as np\n",
    "from cs231n.data_utils import load_CIFAR10\n",
    "import matplotlib.pyplot as plt\n",
    "\n",
    "from __future__ import print_function\n",
    "\n",
    "%matplotlib inline\n",
    "plt.rcParams['figure.figsize'] = (10.0, 8.0) # set default size of plots\n",
    "plt.rcParams['image.interpolation'] = 'nearest'\n",
    "plt.rcParams['image.cmap'] = 'gray'\n",
    "\n",
    "# for auto-reloading extenrnal modules\n",
    "# see http://stackoverflow.com/questions/1907993/autoreload-of-modules-in-ipython\n",
    "%load_ext autoreload\n",
    "%autoreload 2"
   ]
  },
  {
   "cell_type": "code",
   "execution_count": 2,
   "metadata": {},
   "outputs": [
    {
     "name": "stdout",
     "output_type": "stream",
     "text": [
      "Train data shape:  (49000, 3073)\n",
      "Train labels shape:  (49000,)\n",
      "Validation data shape:  (1000, 3073)\n",
      "Validation labels shape:  (1000,)\n",
      "Test data shape:  (1000, 3073)\n",
      "Test labels shape:  (1000,)\n",
      "dev data shape:  (500, 3073)\n",
      "dev labels shape:  (500,)\n"
     ]
    }
   ],
   "source": [
    "def get_CIFAR10_data(num_training=49000, num_validation=1000, num_test=1000, num_dev=500):\n",
    "    \"\"\"\n",
    "    Load the CIFAR-10 dataset from disk and perform preprocessing to prepare\n",
    "    it for the linear classifier. These are the same steps as we used for the\n",
    "    SVM, but condensed to a single function.  \n",
    "    \"\"\"\n",
    "    # Load the raw CIFAR-10 data\n",
    "    cifar10_dir = 'cs231n/datasets/cifar-10-batches-py'\n",
    "    X_train, y_train, X_test, y_test = load_CIFAR10(cifar10_dir)\n",
    "    \n",
    "    # subsample the data\n",
    "    mask = list(range(num_training, num_training + num_validation))\n",
    "    X_val = X_train[mask]\n",
    "    y_val = y_train[mask]\n",
    "    mask = list(range(num_training))\n",
    "    X_train = X_train[mask]\n",
    "    y_train = y_train[mask]\n",
    "    mask = list(range(num_test))\n",
    "    X_test = X_test[mask]\n",
    "    y_test = y_test[mask]\n",
    "    mask = np.random.choice(num_training, num_dev, replace=False)\n",
    "    X_dev = X_train[mask]\n",
    "    y_dev = y_train[mask]\n",
    "    \n",
    "    # Preprocessing: reshape the image data into rows\n",
    "    X_train = np.reshape(X_train, (X_train.shape[0], -1))\n",
    "    X_val = np.reshape(X_val, (X_val.shape[0], -1))\n",
    "    X_test = np.reshape(X_test, (X_test.shape[0], -1))\n",
    "    X_dev = np.reshape(X_dev, (X_dev.shape[0], -1))\n",
    "    \n",
    "    # Normalize the data: subtract the mean image\n",
    "    mean_image = np.mean(X_train, axis = 0)\n",
    "    X_train -= mean_image\n",
    "    X_val -= mean_image\n",
    "    X_test -= mean_image\n",
    "    X_dev -= mean_image\n",
    "    \n",
    "    # add bias dimension and transform into columns\n",
    "    X_train = np.hstack([X_train, np.ones((X_train.shape[0], 1))])\n",
    "    X_val = np.hstack([X_val, np.ones((X_val.shape[0], 1))])\n",
    "    X_test = np.hstack([X_test, np.ones((X_test.shape[0], 1))])\n",
    "    X_dev = np.hstack([X_dev, np.ones((X_dev.shape[0], 1))])\n",
    "    \n",
    "    return X_train, y_train, X_val, y_val, X_test, y_test, X_dev, y_dev\n",
    "\n",
    "\n",
    "# Invoke the above function to get our data.\n",
    "X_train, y_train, X_val, y_val, X_test, y_test, X_dev, y_dev = get_CIFAR10_data()\n",
    "print('Train data shape: ', X_train.shape)\n",
    "print('Train labels shape: ', y_train.shape)\n",
    "print('Validation data shape: ', X_val.shape)\n",
    "print('Validation labels shape: ', y_val.shape)\n",
    "print('Test data shape: ', X_test.shape)\n",
    "print('Test labels shape: ', y_test.shape)\n",
    "print('dev data shape: ', X_dev.shape)\n",
    "print('dev labels shape: ', y_dev.shape)"
   ]
  },
  {
   "cell_type": "markdown",
   "metadata": {},
   "source": [
    "## Softmax Classifier\n",
    "\n",
    "Your code for this section will all be written inside **cs231n/classifiers/softmax.py**. \n"
   ]
  },
  {
   "cell_type": "code",
   "execution_count": 3,
   "metadata": {},
   "outputs": [
    {
     "name": "stdout",
     "output_type": "stream",
     "text": [
      "loss: 2.302585\n",
      "sanity check: 2.302585\n"
     ]
    }
   ],
   "source": [
    "# First implement the naive softmax loss function with nested loops.\n",
    "# Open the file cs231n/classifiers/softmax.py and implement the\n",
    "# softmax_loss_naive function.\n",
    "\n",
    "from cs231n.classifiers.softmax import softmax_loss_naive\n",
    "import time\n",
    "\n",
    "# Generate a random softmax weight matrix and use it to compute the loss.\n",
    "W = np.random.randn(3073, 10) * 0.0001\n",
    "loss, grad = softmax_loss_naive(W, X_dev, y_dev, 0.0)\n",
    "\n",
    "# As a rough sanity check, our loss should be something close to -log(0.1).\n",
    "print('loss: %f' % loss)\n",
    "print('sanity check: %f' % (-np.log(0.1)))"
   ]
  },
  {
   "cell_type": "code",
   "execution_count": 6,
   "metadata": {},
   "outputs": [
    {
     "data": {
      "text/plain": [
       "-2.3025850929940455"
      ]
     },
     "execution_count": 6,
     "metadata": {},
     "output_type": "execute_result"
    }
   ],
   "source": [
    "np.log(0.1)"
   ]
  },
  {
   "cell_type": "markdown",
   "metadata": {},
   "source": [
    "## Inline Question 1:\n",
    "Why do we expect our loss to be close to -log(0.1)? Explain briefly.**\n",
    "\n",
    "**Your answer:** *Fill this in*\n"
   ]
  },
  {
   "cell_type": "code",
   "execution_count": 13,
   "metadata": {},
   "outputs": [
    {
     "data": {
      "text/plain": [
       "array([[  7.13581020e+01,   2.60182653e+01,  -4.84739184e+01, ...,\n",
       "         -1.18619592e+01,  -4.63995714e+01,   1.00000000e+00],\n",
       "       [ -1.01641898e+02,  -9.99817347e+01,  -8.14739184e+01, ...,\n",
       "          7.91380408e+01,   9.06004286e+01,   1.00000000e+00],\n",
       "       [ -8.64189796e+00,  -1.89817347e+01,  -7.44739184e+01, ...,\n",
       "         -2.68619592e+01,  -6.93995714e+01,   1.00000000e+00],\n",
       "       ..., \n",
       "       [ -6.66418980e+01,  -4.39817347e+01,  -8.64739184e+01, ...,\n",
       "          1.29138041e+02,   1.40600429e+02,   1.00000000e+00],\n",
       "       [ -4.86418980e+01,  -5.19817347e+01,  -5.94739184e+01, ...,\n",
       "          1.13804082e+00,  -5.83995714e+01,   1.00000000e+00],\n",
       "       [ -6.41897959e-01,   1.82653061e-02,  -5.74739184e+01, ...,\n",
       "         -8.61959184e-01,   5.60042857e+00,   1.00000000e+00]])"
      ]
     },
     "execution_count": 13,
     "metadata": {},
     "output_type": "execute_result"
    }
   ],
   "source": [
    "X_dev"
   ]
  },
  {
   "cell_type": "code",
   "execution_count": 22,
   "metadata": {},
   "outputs": [
    {
     "name": "stdout",
     "output_type": "stream",
     "text": [
      "numerical: 0.000000 analytic: 0.840728, relative error: 1.000000e+00\n",
      "numerical: 0.000000 analytic: -0.561175, relative error: 1.000000e+00\n",
      "numerical: 0.000000 analytic: 0.177571, relative error: 1.000000e+00\n",
      "numerical: 0.000000 analytic: 0.937939, relative error: 1.000000e+00\n",
      "numerical: 0.000000 analytic: -0.909288, relative error: 1.000000e+00\n",
      "numerical: 0.000000 analytic: -1.373268, relative error: 1.000000e+00\n",
      "numerical: 0.000000 analytic: -2.165975, relative error: 1.000000e+00\n",
      "numerical: 0.000000 analytic: -0.390255, relative error: 1.000000e+00\n",
      "numerical: 0.000000 analytic: -0.655043, relative error: 1.000000e+00\n",
      "numerical: 0.000000 analytic: -3.038998, relative error: 1.000000e+00\n",
      "numerical: 0.010789 analytic: -1.216952, relative error: 1.000000e+00\n",
      "numerical: 0.014663 analytic: -1.521861, relative error: 1.000000e+00\n",
      "numerical: -0.012375 analytic: -0.562873, relative error: 9.569766e-01\n",
      "numerical: -0.000266 analytic: 2.393925, relative error: 1.000000e+00\n",
      "numerical: 0.013583 analytic: 0.236103, relative error: 8.912016e-01\n",
      "numerical: -0.012950 analytic: 0.296683, relative error: 1.000000e+00\n",
      "numerical: -0.016858 analytic: 2.607149, relative error: 1.000000e+00\n",
      "numerical: 0.005839 analytic: 0.044161, relative error: 7.664475e-01\n",
      "numerical: -0.004766 analytic: -1.598391, relative error: 9.940546e-01\n",
      "numerical: -0.000095 analytic: 0.277593, relative error: 1.000000e+00\n"
     ]
    }
   ],
   "source": [
    "# Complete the implementation of softmax_loss_naive and implement a (naive)\n",
    "# version of the gradient that uses nested loops.\n",
    "loss, grad = softmax_loss_naive(W, X_dev, y_dev, 0.0)\n",
    "\n",
    "# As we did for the SVM, use numeric gradient checking as a debugging tool.\n",
    "# The numeric gradient should be close to the analytic gradient.\n",
    "from cs231n.gradient_check import grad_check_sparse\n",
    "f = lambda w: softmax_loss_naive(w, X_dev, y_dev, 0.0)[0]\n",
    "grad_numerical = grad_check_sparse(f, W, grad, 10)\n",
    "\n",
    "# similar to SVM case, do another gradient check with regularization\n",
    "loss, grad = softmax_loss_naive(W, X_dev, y_dev, 5e1)\n",
    "f = lambda w: softmax_loss_naive(w, X_dev, y_dev, 5e1)[0]\n",
    "grad_numerical = grad_check_sparse(f, W, grad, 10)"
   ]
  },
  {
   "cell_type": "code",
   "execution_count": 27,
   "metadata": {},
   "outputs": [
    {
     "name": "stdout",
     "output_type": "stream",
     "text": [
      "naive loss: 2.302585e+00 computed in 0.094565s\n",
      "vectorized loss: 2.330660e+00 computed in 0.004625s\n",
      "Loss difference: 0.028075\n",
      "Gradient difference: 135.128682\n"
     ]
    }
   ],
   "source": [
    "# Now that we have a naive implementation of the softmax loss function and its gradient,\n",
    "# implement a vectorized version in softmax_loss_vectorized.\n",
    "# The two versions should compute the same results, but the vectorized version should be\n",
    "# much faster.\n",
    "tic = time.time()\n",
    "loss_naive, grad_naive = softmax_loss_naive(W, X_dev, y_dev, 0.000005)\n",
    "toc = time.time()\n",
    "print('naive loss: %e computed in %fs' % (loss_naive, toc - tic))\n",
    "\n",
    "from cs231n.classifiers.softmax import softmax_loss_vectorized\n",
    "tic = time.time()\n",
    "loss_vectorized, grad_vectorized = softmax_loss_vectorized(W, X_dev, y_dev, 0.000005)\n",
    "toc = time.time()\n",
    "print('vectorized loss: %e computed in %fs' % (loss_vectorized, toc - tic))\n",
    "\n",
    "# As we did for the SVM, we use the Frobenius norm to compare the two versions\n",
    "# of the gradient.\n",
    "grad_difference = np.linalg.norm(grad_naive - grad_vectorized, ord='fro')\n",
    "print('Loss difference: %f' % np.abs(loss_naive - loss_vectorized))\n",
    "print('Gradient difference: %f' % grad_difference)"
   ]
  },
  {
   "cell_type": "code",
   "execution_count": 26,
   "metadata": {},
   "outputs": [
    {
     "data": {
      "text/plain": [
       "array([[  1.25003828e+00,   5.71594248e-01,   7.03436254e-01, ...,\n",
       "          1.42310089e+00,   5.12940132e-01,   3.01679068e+00],\n",
       "       [  2.06478620e+00,  -8.71547321e-01,   1.89593749e+00, ...,\n",
       "          1.47593993e+00,   1.70185025e+00,   3.82750091e+00],\n",
       "       [  3.67319045e+00,  -7.80912810e-01,   1.79679865e+00, ...,\n",
       "          2.02650246e+00,   3.23346192e+00,   5.21080322e+00],\n",
       "       ..., \n",
       "       [  1.15992232e+00,  -8.87035123e-01,   9.90186503e-01, ...,\n",
       "          1.08324475e+00,  -1.60221005e+00,   7.82722185e-01],\n",
       "       [  1.64350522e+00,  -2.90147318e-01,   8.52558211e-01, ...,\n",
       "         -2.50736488e-01,  -1.23929583e-02,   8.42558706e-01],\n",
       "       [ -1.25770325e-02,  -5.29932418e-03,   3.17345142e-03, ...,\n",
       "         -7.77096530e-03,  -1.75645138e-02,   2.48839842e-03]])"
      ]
     },
     "execution_count": 26,
     "metadata": {},
     "output_type": "execute_result"
    }
   ],
   "source": [
    "grad_vectorized"
   ]
  },
  {
   "cell_type": "code",
   "execution_count": 31,
   "metadata": {},
   "outputs": [
    {
     "name": "stdout",
     "output_type": "stream",
     "text": [
      "iteration 0 / 1500: loss 783.343566\n",
      "iteration 100 / 1500: loss 287.673044\n",
      "iteration 200 / 1500: loss 106.646052\n",
      "iteration 300 / 1500: loss 40.332527\n",
      "iteration 400 / 1500: loss 16.113855\n",
      "iteration 500 / 1500: loss 7.237209\n",
      "iteration 600 / 1500: loss 3.905803\n",
      "iteration 700 / 1500: loss 2.780185\n",
      "iteration 800 / 1500: loss 2.343430\n",
      "iteration 900 / 1500: loss 2.240669\n",
      "iteration 1000 / 1500: loss 2.148240\n",
      "iteration 1100 / 1500: loss 2.076881\n",
      "iteration 1200 / 1500: loss 2.040378\n",
      "iteration 1300 / 1500: loss 2.028671\n",
      "iteration 1400 / 1500: loss 2.083809\n",
      "iteration 0 / 1500: loss 1532.659379\n",
      "iteration 100 / 1500: loss 206.290861\n",
      "iteration 200 / 1500: loss 29.440131\n",
      "iteration 300 / 1500: loss 5.771990\n",
      "iteration 400 / 1500: loss 2.626294\n",
      "iteration 500 / 1500: loss 2.152942\n",
      "iteration 600 / 1500: loss 2.128563\n",
      "iteration 700 / 1500: loss 2.111291\n",
      "iteration 800 / 1500: loss 2.104496\n",
      "iteration 900 / 1500: loss 2.168129\n",
      "iteration 1000 / 1500: loss 2.142020\n",
      "iteration 1100 / 1500: loss 2.122474\n",
      "iteration 1200 / 1500: loss 2.168251\n",
      "iteration 1300 / 1500: loss 2.172977\n",
      "iteration 1400 / 1500: loss 2.136225\n",
      "iteration 0 / 1500: loss 765.376797\n",
      "iteration 100 / 1500: loss 6.798428\n",
      "iteration 200 / 1500: loss 2.162247\n",
      "iteration 300 / 1500: loss 2.114437\n",
      "iteration 400 / 1500: loss 2.102784\n",
      "iteration 500 / 1500: loss 2.066124\n",
      "iteration 600 / 1500: loss 2.114363\n",
      "iteration 700 / 1500: loss 2.141250\n",
      "iteration 800 / 1500: loss 2.111876\n",
      "iteration 900 / 1500: loss 2.069770\n",
      "iteration 1000 / 1500: loss 2.059455\n",
      "iteration 1100 / 1500: loss 2.079045\n",
      "iteration 1200 / 1500: loss 2.089203\n",
      "iteration 1300 / 1500: loss 2.075187\n",
      "iteration 1400 / 1500: loss 2.113708\n",
      "iteration 0 / 1500: loss 1522.085888\n",
      "iteration 100 / 1500: loss 2.147248\n",
      "iteration 200 / 1500: loss 2.087186\n",
      "iteration 300 / 1500: loss 2.172836\n",
      "iteration 400 / 1500: loss 2.173546\n",
      "iteration 500 / 1500: loss 2.119865\n",
      "iteration 600 / 1500: loss 2.142109\n",
      "iteration 700 / 1500: loss 2.107347\n",
      "iteration 800 / 1500: loss 2.089025\n",
      "iteration 900 / 1500: loss 2.146113\n",
      "iteration 1000 / 1500: loss 2.201599\n",
      "iteration 1100 / 1500: loss 2.176380\n",
      "iteration 1200 / 1500: loss 2.147833\n",
      "iteration 1300 / 1500: loss 2.145647\n",
      "iteration 1400 / 1500: loss 2.137533\n",
      "lr 1.000000e-07 reg 2.500000e+04 train accuracy: 0.335163 val accuracy: 0.348000\n",
      "lr 1.000000e-07 reg 5.000000e+04 train accuracy: 0.304163 val accuracy: 0.331000\n",
      "lr 5.000000e-07 reg 2.500000e+04 train accuracy: 0.312245 val accuracy: 0.328000\n",
      "lr 5.000000e-07 reg 5.000000e+04 train accuracy: 0.312776 val accuracy: 0.334000\n",
      "best validation accuracy achieved during cross-validation: -1.000000\n"
     ]
    }
   ],
   "source": [
    "# Use the validation set to tune hyperparameters (regularization strength and\n",
    "# learning rate). You should experiment with different ranges for the learning\n",
    "# rates and regularization strengths; if you are careful you should be able to\n",
    "# get a classification accuracy of over 0.35 on the validation set.\n",
    "from cs231n.classifiers import Softmax\n",
    "results = {}\n",
    "best_val = -1\n",
    "best_softmax = None\n",
    "learning_rates = [1e-7, 5e-7]\n",
    "regularization_strengths = [2.5e4, 5e4]\n",
    "\n",
    "################################################################################\n",
    "# TODO:                                                                        #\n",
    "# Use the validation set to set the learning rate and regularization strength. #\n",
    "# This should be identical to the validation that you did for the SVM; save    #\n",
    "# the best trained softmax classifer in best_softmax.                          #\n",
    "################################################################################\n",
    "#pass\n",
    "cur_acc = 99999999999\n",
    "for lr in learning_rates:\n",
    "    for rs in regularization_strengths:\n",
    "        softmax = Softmax()\n",
    "        softmax.train(X_train, y_train, learning_rate=lr, reg=rs,\n",
    "                      num_iters=1500, verbose=True)\n",
    "        y_train_pred = softmax.predict(X_train)\n",
    "        y_val_pred = softmax.predict(X_val)\n",
    "        results[(lr, rs)] = (np.mean(y_train == y_train_pred), np.mean(y_val == y_val_pred))\n",
    "        if cur_acc > np.mean(y_val == y_val_pred): \n",
    "            best_softmax = softmax\n",
    "            cur_acc = np.mean(y_val == y_val_pred)\n",
    "\n",
    "\n",
    "################################################################################\n",
    "#                              END OF YOUR CODE                                #\n",
    "################################################################################\n",
    "    \n",
    "# Print out results.\n",
    "for lr, reg in sorted(results):\n",
    "    train_accuracy, val_accuracy = results[(lr, reg)]\n",
    "    print('lr %e reg %e train accuracy: %f val accuracy: %f' % (\n",
    "                lr, reg, train_accuracy, val_accuracy))\n",
    "    \n",
    "print('best validation accuracy achieved during cross-validation: %f' % cur_acc)"
   ]
  },
  {
   "cell_type": "code",
   "execution_count": 33,
   "metadata": {},
   "outputs": [
    {
     "name": "stdout",
     "output_type": "stream",
     "text": [
      "lr 1.000000e-07 reg 2.500000e+04 train accuracy: 0.335163 val accuracy: 0.348000\n",
      "lr 1.000000e-07 reg 5.000000e+04 train accuracy: 0.304163 val accuracy: 0.331000\n",
      "lr 5.000000e-07 reg 2.500000e+04 train accuracy: 0.312245 val accuracy: 0.328000\n",
      "lr 5.000000e-07 reg 5.000000e+04 train accuracy: 0.312776 val accuracy: 0.334000\n",
      "best validation accuracy achieved during cross-validation: 0.328000\n"
     ]
    }
   ],
   "source": [
    "# Print out results.\n",
    "for lr, reg in sorted(results):\n",
    "    train_accuracy, val_accuracy = results[(lr, reg)]\n",
    "    print('lr %e reg %e train accuracy: %f val accuracy: %f' % (\n",
    "                lr, reg, train_accuracy, val_accuracy))\n",
    "    \n",
    "print('best validation accuracy achieved during cross-validation: %f' % cur_acc)"
   ]
  },
  {
   "cell_type": "code",
   "execution_count": 34,
   "metadata": {},
   "outputs": [
    {
     "name": "stdout",
     "output_type": "stream",
     "text": [
      "softmax on raw pixels final test set accuracy: 0.328000\n"
     ]
    }
   ],
   "source": [
    "# evaluate on test set\n",
    "# Evaluate the best softmax on test set\n",
    "y_test_pred = best_softmax.predict(X_test)\n",
    "test_accuracy = np.mean(y_test == y_test_pred)\n",
    "print('softmax on raw pixels final test set accuracy: %f' % (test_accuracy, ))"
   ]
  },
  {
   "cell_type": "code",
   "execution_count": 35,
   "metadata": {},
   "outputs": [
    {
     "data": {
      "image/png": "[encoded data removed]",
      "text/plain": [
       "<matplotlib.figure.Figure at 0x111720748>"
      ]
     },
     "metadata": {},
     "output_type": "display_data"
    }
   ],
   "source": [
    "# Visualize the learned weights for each class\n",
    "w = best_softmax.W[:-1,:] # strip out the bias\n",
    "w = w.reshape(32, 32, 3, 10)\n",
    "\n",
    "w_min, w_max = np.min(w), np.max(w)\n",
    "\n",
    "classes = ['plane', 'car', 'bird', 'cat', 'deer', 'dog', 'frog', 'horse', 'ship', 'truck']\n",
    "for i in range(10):\n",
    "    plt.subplot(2, 5, i + 1)\n",
    "    \n",
    "    # Rescale the weights to be between 0 and 255\n",
    "    wimg = 255.0 * (w[:, :, :, i].squeeze() - w_min) / (w_max - w_min)\n",
    "    plt.imshow(wimg.astype('uint8'))\n",
    "    plt.axis('off')\n",
    "    plt.title(classes[i])"
   ]
  },
  {
   "cell_type": "code",
   "execution_count": null,
   "metadata": {},
   "outputs": [],
   "source": []
  }
 ],
 "metadata": {
  "kernelspec": {
   "display_name": "Python 3",
   "language": "python",
   "name": "python3"
  },
  "language_info": {
   "codemirror_mode": {
    "name": "ipython",
    "version": 3
   },
   "file_extension": ".py",
   "mimetype": "text/x-python",
   "name": "python",
   "nbconvert_exporter": "python",
   "pygments_lexer": "ipython3",
   "version": "3.6.2"
  }
 },
 "nbformat": 4,
 "nbformat_minor": 1
}
